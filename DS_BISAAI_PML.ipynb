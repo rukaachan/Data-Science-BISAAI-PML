{
  "nbformat": 4,
  "nbformat_minor": 0,
  "metadata": {
    "colab": {
      "provenance": []
    },
    "kernelspec": {
      "name": "python3",
      "display_name": "Python 3"
    },
    "language_info": {
      "name": "python"
    }
  },
  "cells": [
    {
      "cell_type": "markdown",
      "source": [
        "## Dasar Pemrograman Python"
      ],
      "metadata": {
        "id": "LeDsn6-Zsugf"
      }
    },
    {
      "cell_type": "code",
      "execution_count": 1,
      "metadata": {
        "colab": {
          "base_uri": "https://localhost:8080/"
        },
        "id": "0m-tnjSPqUYh",
        "outputId": "6bcf3aa5-9481-441d-ce43-cfb5136a58a9"
      },
      "outputs": [
        {
          "output_type": "stream",
          "name": "stdout",
          "text": [
            "Hello World\n"
          ]
        }
      ],
      "source": [
        "print(\"Hello World\")"
      ]
    },
    {
      "cell_type": "markdown",
      "source": [
        "### Statement & Variabel"
      ],
      "metadata": {
        "id": "1SaP0fWGs7zs"
      }
    },
    {
      "cell_type": "code",
      "source": [
        "nama = \"bintang\"\n",
        "nilai = 10\n",
        "print(\"Nama: \" +nama, \"Nilai: \" +str(nilai))"
      ],
      "metadata": {
        "colab": {
          "base_uri": "https://localhost:8080/"
        },
        "id": "YNlYLfVBscy1",
        "outputId": "eb8d52b4-0ed3-4b82-c877-8abaa3874cb7"
      },
      "execution_count": 6,
      "outputs": [
        {
          "output_type": "stream",
          "name": "stdout",
          "text": [
            "Nama: bintang Nilai: 10\n"
          ]
        }
      ]
    },
    {
      "cell_type": "code",
      "source": [],
      "metadata": {
        "id": "-85QIZKutEwX"
      },
      "execution_count": null,
      "outputs": []
    }
  ]
}