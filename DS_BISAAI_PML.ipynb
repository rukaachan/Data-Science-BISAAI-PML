{
  "nbformat": 4,
  "nbformat_minor": 0,
  "metadata": {
    "colab": {
      "provenance": [],
      "authorship_tag": "ABX9TyOr4N5oiPcuTBbnKT0Mmwvz",
      "include_colab_link": true
    },
    "kernelspec": {
      "name": "python3",
      "display_name": "Python 3"
    },
    "language_info": {
      "name": "python"
    }
  },
  "cells": [
    {
      "cell_type": "markdown",
      "metadata": {
        "id": "view-in-github",
        "colab_type": "text"
      },
      "source": [
        "<a href=\"https://colab.research.google.com/github/rukaachan/Data-Science-BISAAI-PML/blob/main/DS_BISAAI_PML.ipynb\" target=\"_parent\"><img src=\"https://colab.research.google.com/assets/colab-badge.svg\" alt=\"Open In Colab\"/></a>"
      ]
    },
    {
      "cell_type": "markdown",
      "source": [
        "## Dasar Pemrograman Python"
      ],
      "metadata": {
        "id": "LeDsn6-Zsugf"
      }
    },
    {
      "cell_type": "code",
      "execution_count": null,
      "metadata": {
        "colab": {
          "base_uri": "https://localhost:8080/"
        },
        "id": "0m-tnjSPqUYh",
        "outputId": "6bcf3aa5-9481-441d-ce43-cfb5136a58a9"
      },
      "outputs": [
        {
          "output_type": "stream",
          "name": "stdout",
          "text": [
            "Hello World\n"
          ]
        }
      ],
      "source": [
        "print(\"Hello World\")"
      ]
    },
    {
      "cell_type": "markdown",
      "source": [
        "### Statement & Variabel"
      ],
      "metadata": {
        "id": "1SaP0fWGs7zs"
      }
    },
    {
      "cell_type": "code",
      "source": [
        "nama = \"bintang\"\n",
        "nilai = 10\n",
        "tempat = \"kebun binatang\"\n",
        "print(\"Nama: \" +nama, \"Nilai: \" +str(nilai), \"Tempat: \" +tempat)"
      ],
      "metadata": {
        "colab": {
          "base_uri": "https://localhost:8080/"
        },
        "id": "YNlYLfVBscy1",
        "outputId": "b039743b-60ad-439d-a7cf-6aa467d346e9"
      },
      "execution_count": 7,
      "outputs": [
        {
          "output_type": "stream",
          "name": "stdout",
          "text": [
            "Nama: bintang Nilai: 10 Tempat: kebun binatang\n"
          ]
        }
      ]
    },
    {
      "cell_type": "markdown",
      "source": [
        "### Operator"
      ],
      "metadata": {
        "id": "5dNXwNWw0ZAP"
      }
    },
    {
      "cell_type": "code",
      "source": [
        "a = 5\n",
        "b = 5\n",
        "hasil = a + b\n",
        "print(\"Jumlah: \" +str(hasil))"
      ],
      "metadata": {
        "colab": {
          "base_uri": "https://localhost:8080/"
        },
        "id": "MOfsYC_30tAF",
        "outputId": "eef5be5a-5239-4a4e-fcb0-6b08b9962266"
      },
      "execution_count": 9,
      "outputs": [
        {
          "output_type": "stream",
          "name": "stdout",
          "text": [
            "Jumlah: 10\n"
          ]
        }
      ]
    }
  ]
}