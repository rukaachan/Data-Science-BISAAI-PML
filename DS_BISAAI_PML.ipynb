{
  "nbformat": 4,
  "nbformat_minor": 0,
  "metadata": {
    "colab": {
      "provenance": [],
      "authorship_tag": "ABX9TyPOWi72WECeH4/aKFhINwd4",
      "include_colab_link": true
    },
    "kernelspec": {
      "name": "python3",
      "display_name": "Python 3"
    },
    "language_info": {
      "name": "python"
    }
  },
  "cells": [
    {
      "cell_type": "markdown",
      "metadata": {
        "id": "view-in-github",
        "colab_type": "text"
      },
      "source": [
        "<a href=\"https://colab.research.google.com/github/rukaachan/Data-Science-BISAAI-PML/blob/main/DS_BISAAI_PML.ipynb\" target=\"_parent\"><img src=\"https://colab.research.google.com/assets/colab-badge.svg\" alt=\"Open In Colab\"/></a>"
      ]
    },
    {
      "cell_type": "markdown",
      "source": [
        "## Dasar Pemrograman Python"
      ],
      "metadata": {
        "id": "LeDsn6-Zsugf"
      }
    },
    {
      "cell_type": "code",
      "execution_count": null,
      "metadata": {
        "colab": {
          "base_uri": "https://localhost:8080/"
        },
        "id": "0m-tnjSPqUYh",
        "outputId": "6bcf3aa5-9481-441d-ce43-cfb5136a58a9"
      },
      "outputs": [
        {
          "output_type": "stream",
          "name": "stdout",
          "text": [
            "Hello World\n"
          ]
        }
      ],
      "source": [
        "print(\"Hello World\")"
      ]
    },
    {
      "cell_type": "markdown",
      "source": [
        "### Statement & Variabel"
      ],
      "metadata": {
        "id": "1SaP0fWGs7zs"
      }
    },
    {
      "cell_type": "code",
      "source": [
        "nama = \"bintang\"\n",
        "nilai = 10\n",
        "tempat = \"kebun binatang\"\n",
        "print(\"Nama: \" +nama, \"Nilai: \" +str(nilai), \"Tempat: \" +tempat)"
      ],
      "metadata": {
        "colab": {
          "base_uri": "https://localhost:8080/"
        },
        "id": "YNlYLfVBscy1",
        "outputId": "d5643b5c-3095-4203-886d-0e31832887b9"
      },
      "execution_count": null,
      "outputs": [
        {
          "output_type": "stream",
          "name": "stdout",
          "text": [
            "Nama: bintang Nilai: 10 Tempat: kebun binatang\n"
          ]
        }
      ]
    },
    {
      "cell_type": "markdown",
      "source": [
        "### Operator"
      ],
      "metadata": {
        "id": "5dNXwNWw0ZAP"
      }
    },
    {
      "cell_type": "code",
      "source": [
        "a = 5\n",
        "b = 5\n",
        "hasil = a + b\n",
        "print(\"Jumlah: \" +str(hasil))"
      ],
      "metadata": {
        "colab": {
          "base_uri": "https://localhost:8080/"
        },
        "id": "MOfsYC_30tAF",
        "outputId": "eef5be5a-5239-4a4e-fcb0-6b08b9962266"
      },
      "execution_count": null,
      "outputs": [
        {
          "output_type": "stream",
          "name": "stdout",
          "text": [
            "Jumlah: 10\n"
          ]
        }
      ]
    },
    {
      "cell_type": "markdown",
      "source": [
        "### Operator Perbandingan"
      ],
      "metadata": {
        "id": "tmeFEGwS3Irw"
      }
    },
    {
      "cell_type": "code",
      "source": [
        "a = 3\n",
        "b = 5\n",
        "hasil = (a > b)\n",
        "print(hasil)"
      ],
      "metadata": {
        "colab": {
          "base_uri": "https://localhost:8080/"
        },
        "id": "cyL63tFw3aCh",
        "outputId": "d432533a-1b10-4854-8c10-d942ca1f4ffb"
      },
      "execution_count": null,
      "outputs": [
        {
          "output_type": "stream",
          "name": "stdout",
          "text": [
            "False\n"
          ]
        }
      ]
    },
    {
      "cell_type": "markdown",
      "source": [
        "### Operator Sleksi"
      ],
      "metadata": {
        "id": "b0twSbLZ4hHy"
      }
    },
    {
      "cell_type": "code",
      "source": [
        "a = 3\n",
        "b = 5\n",
        "\n",
        "# Perbandingan antara a dan b\n",
        "if a > b:\n",
        "    print(f\"{a} lebih besar daripada {b}\")\n",
        "elif a < b:\n",
        "    print(f\"{a} lebih kecil daripada {b}\")\n",
        "else:\n",
        "    print(f\"{a} sama dengan {b}\")\n"
      ],
      "metadata": {
        "colab": {
          "base_uri": "https://localhost:8080/"
        },
        "id": "dzXcmCTX4j88",
        "outputId": "d3b0887e-0718-43fa-90b0-60ba8710dbb8"
      },
      "execution_count": null,
      "outputs": [
        {
          "output_type": "stream",
          "name": "stdout",
          "text": [
            "3 lebih kecil daripada 5\n"
          ]
        }
      ]
    },
    {
      "cell_type": "markdown",
      "source": [
        "## Matematika dan Statistika"
      ],
      "metadata": {
        "id": "oBXSJ6_1Mnrl"
      }
    },
    {
      "cell_type": "code",
      "source": [
        "import numpy as np"
      ],
      "metadata": {
        "id": "w9H3g61yMwmj"
      },
      "execution_count": 2,
      "outputs": []
    },
    {
      "cell_type": "markdown",
      "source": [
        "### Scalar, Vector, Matrix"
      ],
      "metadata": {
        "id": "VoA7V5_RT8hd"
      }
    },
    {
      "cell_type": "markdown",
      "source": [
        "### Scalar"
      ],
      "metadata": {
        "id": "qHsFgCj1UIA5"
      }
    },
    {
      "cell_type": "code",
      "source": [
        "s = 8\n",
        "print(s)"
      ],
      "metadata": {
        "colab": {
          "base_uri": "https://localhost:8080/"
        },
        "id": "TTmVTmROUA-Y",
        "outputId": "9fce8474-f317-42d2-ed59-9aad3dc2449b"
      },
      "execution_count": null,
      "outputs": [
        {
          "output_type": "stream",
          "name": "stdout",
          "text": [
            "8\n"
          ]
        }
      ]
    },
    {
      "cell_type": "markdown",
      "source": [
        "### Vector"
      ],
      "metadata": {
        "id": "4DQxVz2UUacN"
      }
    },
    {
      "cell_type": "code",
      "source": [
        "v = np.array([[1,2,3,4,5,6,7,8,9]])\n",
        "print(v.shape)\n",
        "print(v)"
      ],
      "metadata": {
        "colab": {
          "base_uri": "https://localhost:8080/"
        },
        "id": "RlCYqPc6Uewq",
        "outputId": "0744e4c3-ecca-41e6-b563-71bd8af29cbf"
      },
      "execution_count": null,
      "outputs": [
        {
          "output_type": "stream",
          "name": "stdout",
          "text": [
            "(1, 9)\n",
            "[[1 2 3 4 5 6 7 8 9]]\n"
          ]
        }
      ]
    },
    {
      "cell_type": "markdown",
      "source": [
        "### Matrix"
      ],
      "metadata": {
        "id": "XVGa8n-BUttZ"
      }
    },
    {
      "cell_type": "code",
      "source": [
        "m = np.array([[1,2,3], [4,5,6], [7,8,9]])\n",
        "print(m.shape)\n",
        "print(m)"
      ],
      "metadata": {
        "colab": {
          "base_uri": "https://localhost:8080/"
        },
        "id": "urFG5sybUvpo",
        "outputId": "44e56218-3d49-4289-e130-8d6a0b0034cd"
      },
      "execution_count": null,
      "outputs": [
        {
          "output_type": "stream",
          "name": "stdout",
          "text": [
            "(3, 3)\n",
            "[[1 2 3]\n",
            " [4 5 6]\n",
            " [7 8 9]]\n"
          ]
        }
      ]
    },
    {
      "cell_type": "markdown",
      "source": [
        "### Operasi Dasar pada Matrix dan Vector"
      ],
      "metadata": {
        "id": "y24wv4UbVOBF"
      }
    },
    {
      "cell_type": "markdown",
      "source": [
        "#### Penjumlahan dan Pengurangan pada Matrix dan Vector"
      ],
      "metadata": {
        "id": "McB51Pc_XC2V"
      }
    },
    {
      "cell_type": "code",
      "source": [
        "v1 = np.array([[2,7,9]])\n",
        "v2 = np.array([[5,7,3]])\n",
        "penjumlahan_vector = v1+v2\n",
        "pengurangan_vector = v1-v2\n",
        "\n",
        "print(penjumlahan_vector)\n",
        "print(pengurangan_vector)"
      ],
      "metadata": {
        "colab": {
          "base_uri": "https://localhost:8080/"
        },
        "id": "JnvFZn4WXIJk",
        "outputId": "0f555587-8e0b-495a-c35b-112f028152d8"
      },
      "execution_count": null,
      "outputs": [
        {
          "output_type": "stream",
          "name": "stdout",
          "text": [
            "[[ 7 14 12]]\n",
            "[[-3  0  6]]\n"
          ]
        }
      ]
    },
    {
      "cell_type": "code",
      "source": [
        "m1 = np.array([[2,7,9], [5,8,1]])\n",
        "m2 = np.array([[4,1,6], [5,7,3]])\n",
        "penjumlahan_matrix = m1+m2\n",
        "pengurangan_matrix = m1-m2\n",
        "\n",
        "print(penjumlahan_matrix)\n",
        "print(pengurangan_matrix)"
      ],
      "metadata": {
        "colab": {
          "base_uri": "https://localhost:8080/"
        },
        "id": "JHVul1YcXh0L",
        "outputId": "4ae1402c-bb6c-4e67-a455-0a0760fdfeb0"
      },
      "execution_count": null,
      "outputs": [
        {
          "output_type": "stream",
          "name": "stdout",
          "text": [
            "[[ 6  8 15]\n",
            " [10 15  4]]\n",
            "[[-2  6  3]\n",
            " [ 0  1 -2]]\n"
          ]
        }
      ]
    },
    {
      "cell_type": "markdown",
      "source": [
        "#### Transpose pada Matrix dan Vector"
      ],
      "metadata": {
        "id": "de5FM4IJX2uz"
      }
    },
    {
      "cell_type": "code",
      "source": [
        "# cara pertama dalam vector\n",
        "v1 = np.array([[2,7,9]])\n",
        "v1_transpose = np.transpose(v1)\n",
        "\n",
        "print(v1_transpose)"
      ],
      "metadata": {
        "colab": {
          "base_uri": "https://localhost:8080/"
        },
        "id": "ZuAVWWsUYIq3",
        "outputId": "cf4b17b9-1825-4121-b263-48a247c90a90"
      },
      "execution_count": null,
      "outputs": [
        {
          "output_type": "stream",
          "name": "stdout",
          "text": [
            "[[2]\n",
            " [7]\n",
            " [9]]\n"
          ]
        }
      ]
    },
    {
      "cell_type": "code",
      "source": [
        "# cara kedua dalam vector\n",
        "v1_transpose = v1.transpose()\n",
        "\n",
        "print(v1_transpose)"
      ],
      "metadata": {
        "colab": {
          "base_uri": "https://localhost:8080/"
        },
        "id": "qaZ5ZHXuYZUN",
        "outputId": "bcee682c-d071-4265-d3bc-5339739496df"
      },
      "execution_count": null,
      "outputs": [
        {
          "output_type": "stream",
          "name": "stdout",
          "text": [
            "[[2]\n",
            " [7]\n",
            " [9]]\n"
          ]
        }
      ]
    },
    {
      "cell_type": "code",
      "source": [
        "# cara pertama dalam matrix\n",
        "m1 = np.array([[2,7,9], [5,8,1]])\n",
        "m1_transpose = np.transpose(m1)\n",
        "\n",
        "print(m1_transpose)"
      ],
      "metadata": {
        "colab": {
          "base_uri": "https://localhost:8080/"
        },
        "id": "j71EktyKYteb",
        "outputId": "5caa2151-3949-450e-d694-bdc742765ab6"
      },
      "execution_count": null,
      "outputs": [
        {
          "output_type": "stream",
          "name": "stdout",
          "text": [
            "[[2 5]\n",
            " [7 8]\n",
            " [9 1]]\n"
          ]
        }
      ]
    },
    {
      "cell_type": "code",
      "source": [
        "# cara kedua dalam matrix\n",
        "m1_transpose = m1.transpose()\n",
        "\n",
        "print(m1_transpose)"
      ],
      "metadata": {
        "colab": {
          "base_uri": "https://localhost:8080/"
        },
        "id": "NE-7R4vsY7Wm",
        "outputId": "5c8b0078-b448-42e6-d181-320abe6dd1d6"
      },
      "execution_count": null,
      "outputs": [
        {
          "output_type": "stream",
          "name": "stdout",
          "text": [
            "[[2 5]\n",
            " [7 8]\n",
            " [9 1]]\n"
          ]
        }
      ]
    },
    {
      "cell_type": "markdown",
      "source": [
        "#### Perkalian pada Matrix dan Vector"
      ],
      "metadata": {
        "id": "AeIEgqUmZVh3"
      }
    },
    {
      "cell_type": "code",
      "source": [
        "v1 = np.array([[2,7,9]])\n",
        "v2 = np.array([[5,7,3]])\n",
        "perkalian = v1*v2\n",
        "dot_product = v1.dot(v2.transpose())\n",
        "\n",
        "print(perkalian, dot_product)"
      ],
      "metadata": {
        "colab": {
          "base_uri": "https://localhost:8080/"
        },
        "id": "CU3Qri-5ZYeQ",
        "outputId": "9ad2c2d3-ea01-445b-d682-609ae5603408"
      },
      "execution_count": null,
      "outputs": [
        {
          "output_type": "stream",
          "name": "stdout",
          "text": [
            "[[10 49 27]] [[86]]\n"
          ]
        }
      ]
    },
    {
      "cell_type": "code",
      "source": [
        "m1 = np.array([[2,7,9], [5,8,1]])\n",
        "m2 = np.array([[4,1,6], [5,7,3]])\n",
        "perkalian = m1*m2\n",
        "dot_product = m1.dot(m2.transpose())\n",
        "\n",
        "print(perkalian, dot_product)"
      ],
      "metadata": {
        "colab": {
          "base_uri": "https://localhost:8080/"
        },
        "id": "NOBSzA9PzslN",
        "outputId": "d6b1962e-0c12-4caf-a0e0-4b98dfb36806"
      },
      "execution_count": null,
      "outputs": [
        {
          "output_type": "stream",
          "name": "stdout",
          "text": [
            "[[ 8  7 54]\n",
            " [25 56  3]] [[69 86]\n",
            " [34 84]]\n"
          ]
        }
      ]
    },
    {
      "cell_type": "markdown",
      "source": [
        "### Matrix Identitas dan Invers"
      ],
      "metadata": {
        "id": "yAtT1GlA0siq"
      }
    },
    {
      "cell_type": "markdown",
      "source": [
        "#### Matrix Identitas"
      ],
      "metadata": {
        "id": "uSav3teS0zga"
      }
    },
    {
      "cell_type": "code",
      "source": [
        "#matrix identitas dengan n=3\n",
        "np.identity(3)"
      ],
      "metadata": {
        "colab": {
          "base_uri": "https://localhost:8080/"
        },
        "id": "j9F8kcLU05Lu",
        "outputId": "4724d6af-70fa-49a1-d7f0-da67ddc93aaf"
      },
      "execution_count": null,
      "outputs": [
        {
          "output_type": "execute_result",
          "data": {
            "text/plain": [
              "array([[1., 0., 0.],\n",
              "       [0., 1., 0.],\n",
              "       [0., 0., 1.]])"
            ]
          },
          "metadata": {},
          "execution_count": 7
        }
      ]
    },
    {
      "cell_type": "markdown",
      "source": [
        "#### Determinan"
      ],
      "metadata": {
        "id": "VhJea1Yd1joN"
      }
    },
    {
      "cell_type": "code",
      "source": [
        "a = np.array([[0,1,0], [0,0,1], [4,-17,8]])\n",
        "np.linalg.det(a)"
      ],
      "metadata": {
        "colab": {
          "base_uri": "https://localhost:8080/"
        },
        "id": "gNUFtZ0o1lij",
        "outputId": "28e7d249-7d9e-4a5a-a602-4fe54d7ff405"
      },
      "execution_count": null,
      "outputs": [
        {
          "output_type": "execute_result",
          "data": {
            "text/plain": [
              "4.0"
            ]
          },
          "metadata": {},
          "execution_count": 8
        }
      ]
    },
    {
      "cell_type": "markdown",
      "source": [
        "#### Matrix Invers"
      ],
      "metadata": {
        "id": "ordVvh6L2hPj"
      }
    },
    {
      "cell_type": "code",
      "source": [
        "m = np.array([[2,-1], [-1,1]])\n",
        "m_inv = np.linalg.det(m)\n",
        "m"
      ],
      "metadata": {
        "colab": {
          "base_uri": "https://localhost:8080/"
        },
        "id": "InrK4GAE2kCm",
        "outputId": "183693de-6575-4a87-a7b7-9976445ee32f"
      },
      "execution_count": 4,
      "outputs": [
        {
          "output_type": "execute_result",
          "data": {
            "text/plain": [
              "array([[ 2, -1],\n",
              "       [-1,  1]])"
            ]
          },
          "metadata": {},
          "execution_count": 4
        }
      ]
    },
    {
      "cell_type": "code",
      "source": [
        "#manual\n",
        "adj_m = np.array([[m[1][1], -1*m[0][1]], [-1*m[1][0], m[0][0]]])\n",
        "det_m = np.linalg.det(m)\n",
        "m_inv = (1/int(det_m) * adj_m)\n",
        "m_inv"
      ],
      "metadata": {
        "colab": {
          "base_uri": "https://localhost:8080/"
        },
        "id": "WUu0tb2rUXp8",
        "outputId": "666eacde-fb65-4f81-daac-699ad628ec11"
      },
      "execution_count": 6,
      "outputs": [
        {
          "output_type": "execute_result",
          "data": {
            "text/plain": [
              "array([[1., 1.],\n",
              "       [1., 2.]])"
            ]
          },
          "metadata": {},
          "execution_count": 6
        }
      ]
    },
    {
      "cell_type": "code",
      "source": [
        "m.dot(m_inv)"
      ],
      "metadata": {
        "colab": {
          "base_uri": "https://localhost:8080/"
        },
        "id": "PLISW5HhV5pM",
        "outputId": "023c00da-f29b-4776-e046-5615801c4bcc"
      },
      "execution_count": 7,
      "outputs": [
        {
          "output_type": "execute_result",
          "data": {
            "text/plain": [
              "array([[1., 0.],\n",
              "       [0., 1.]])"
            ]
          },
          "metadata": {},
          "execution_count": 7
        }
      ]
    },
    {
      "cell_type": "markdown",
      "source": [
        "### Solusi Sistem Persamaan"
      ],
      "metadata": {
        "id": "Kft9XJqlWF3I"
      }
    },
    {
      "cell_type": "code",
      "source": [
        "a = np.array([[1,1,2], [2,4,-3], [3,6,-5]])\n",
        "b = np.array([9,1,0])\n",
        "x = np.linalg.solve(a, b)\n",
        "x"
      ],
      "metadata": {
        "colab": {
          "base_uri": "https://localhost:8080/"
        },
        "id": "VHEZVZSbWKwp",
        "outputId": "f4d9c957-c020-4159-b9a0-2357c46f6468"
      },
      "execution_count": 9,
      "outputs": [
        {
          "output_type": "execute_result",
          "data": {
            "text/plain": [
              "array([1., 2., 3.])"
            ]
          },
          "metadata": {},
          "execution_count": 9
        }
      ]
    },
    {
      "cell_type": "markdown",
      "source": [
        "### Eigen"
      ],
      "metadata": {
        "id": "5Eka0gjQXWkE"
      }
    },
    {
      "cell_type": "code",
      "source": [
        "#nilai eigen\n",
        "a = np.array([[0,0,-2], [1,2,1], [1,0,3]])\n",
        "np.linalg.eigvals(a)"
      ],
      "metadata": {
        "colab": {
          "base_uri": "https://localhost:8080/"
        },
        "id": "JdzKbR-RXYcA",
        "outputId": "42300c05-9039-4d2f-9550-2948d3b6c633"
      },
      "execution_count": 10,
      "outputs": [
        {
          "output_type": "execute_result",
          "data": {
            "text/plain": [
              "array([2., 1., 2.])"
            ]
          },
          "metadata": {},
          "execution_count": 10
        }
      ]
    },
    {
      "cell_type": "code",
      "source": [
        "#vektor eigen\n",
        "x = np.array([0,1,0])\n",
        "a.dot(x) == 2*x"
      ],
      "metadata": {
        "colab": {
          "base_uri": "https://localhost:8080/"
        },
        "id": "l-faFPnuZuit",
        "outputId": "5481b9cd-57fe-49e6-b372-7ba14ccdbee2"
      },
      "execution_count": 11,
      "outputs": [
        {
          "output_type": "execute_result",
          "data": {
            "text/plain": [
              "array([ True,  True,  True])"
            ]
          },
          "metadata": {},
          "execution_count": 11
        }
      ]
    }
  ]
}