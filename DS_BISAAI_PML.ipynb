{
  "nbformat": 4,
  "nbformat_minor": 0,
  "metadata": {
    "colab": {
      "provenance": [],
      "authorship_tag": "ABX9TyPK2cypQnRJ75mJxcCcx2ge",
      "include_colab_link": true
    },
    "kernelspec": {
      "name": "python3",
      "display_name": "Python 3"
    },
    "language_info": {
      "name": "python"
    }
  },
  "cells": [
    {
      "cell_type": "markdown",
      "metadata": {
        "id": "view-in-github",
        "colab_type": "text"
      },
      "source": [
        "<a href=\"https://colab.research.google.com/github/rukaachan/Data-Science-BISAAI-PML/blob/main/DS_BISAAI_PML.ipynb\" target=\"_parent\"><img src=\"https://colab.research.google.com/assets/colab-badge.svg\" alt=\"Open In Colab\"/></a>"
      ]
    },
    {
      "cell_type": "markdown",
      "source": [
        "## Dasar Pemrograman Python"
      ],
      "metadata": {
        "id": "LeDsn6-Zsugf"
      }
    },
    {
      "cell_type": "code",
      "execution_count": null,
      "metadata": {
        "colab": {
          "base_uri": "https://localhost:8080/"
        },
        "id": "0m-tnjSPqUYh",
        "outputId": "6bcf3aa5-9481-441d-ce43-cfb5136a58a9"
      },
      "outputs": [
        {
          "output_type": "stream",
          "name": "stdout",
          "text": [
            "Hello World\n"
          ]
        }
      ],
      "source": [
        "print(\"Hello World\")"
      ]
    },
    {
      "cell_type": "markdown",
      "source": [
        "### Statement & Variabel"
      ],
      "metadata": {
        "id": "1SaP0fWGs7zs"
      }
    },
    {
      "cell_type": "code",
      "source": [
        "nama = \"bintang\"\n",
        "nilai = 10\n",
        "tempat = \"kebun binatang\"\n",
        "print(\"Nama: \" +nama, \"Nilai: \" +str(nilai), \"Tempat: \" +tempat)"
      ],
      "metadata": {
        "colab": {
          "base_uri": "https://localhost:8080/"
        },
        "id": "YNlYLfVBscy1",
        "outputId": "b039743b-60ad-439d-a7cf-6aa467d346e9"
      },
      "execution_count": 7,
      "outputs": [
        {
          "output_type": "stream",
          "name": "stdout",
          "text": [
            "Nama: bintang Nilai: 10 Tempat: kebun binatang\n"
          ]
        }
      ]
    },
    {
      "cell_type": "code",
      "source": [],
      "metadata": {
        "id": "-85QIZKutEwX"
      },
      "execution_count": null,
      "outputs": []
    }
  ]
}